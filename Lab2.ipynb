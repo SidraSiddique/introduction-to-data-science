{
 "cells": [
  {
   "cell_type": "code",
   "execution_count": 4,
   "metadata": {},
   "outputs": [
    {
     "name": "stdout",
     "output_type": "stream",
     "text": [
      "Players array:\n",
      "[('Alice', 250, 10) ('Bob', 300, 12) ('Charlie', 200,  8)]\n",
      "\n",
      "Formatted player data:\n",
      "Name: Alice, Score: 250, Level: 10\n",
      "Name: Bob, Score: 300, Level: 12\n",
      "Name: Charlie, Score: 200, Level: 8\n"
     ]
    }
   ],
   "source": [
    "import numpy as np\n",
    "dtype = [('name', 'U10'), ('score', 'i4'), ('level', 'i4')]\n",
    "players = np.array([\n",
    "    ('Alice', 250, 10),\n",
    "    ('Bob', 300, 12),\n",
    "    ('Charlie', 200, 8)\n",
    "], dtype=dtype)\n",
    "\n",
    "print(\"Players array:\")\n",
    "print(players)\n",
    "\n",
    "print(\"\\nFormatted player data:\")\n",
    "for player in players:\n",
    "    print(f\"Name: {player['name']}, Score: {player['score']}, Level: {player['level']}\")\n",
    "\n"
   ]
  },
  {
   "cell_type": "code",
   "execution_count": 10,
   "metadata": {},
   "outputs": [
    {
     "name": "stdout",
     "output_type": "stream",
     "text": [
      "Players array:\n",
      "[('Alice', 250, 10) ('Bob', 400, 12) ('Charlie', 200,  8)]\n",
      "\n",
      "Formatted player data:\n",
      "Name: Alice, Score: 250, Level: 10\n",
      "Name: Bob, Score: 400, Level: 12\n",
      "Name: Charlie, Score: 200, Level: 8\n"
     ]
    }
   ],
   "source": [
    "highest_level_player = np.argmax(players['level'])\n",
    "players['score'][highest_level_player] += 100\n",
    "print(\"Players array:\")\n",
    "print(players)\n",
    "\n",
    "print(\"\\nFormatted player data:\")\n",
    "for player in players:\n",
    "    print(f\"Name: {player['name']}, Score: {player['score']}, Level: {player['level']}\")\n"
   ]
  },
  {
   "cell_type": "code",
   "execution_count": 11,
   "metadata": {},
   "outputs": [
    {
     "name": "stdout",
     "output_type": "stream",
     "text": [
      "Players array:\n",
      "[('Alice', 250, 10) ('Bob', 400, 12) ('Charlie', 200,  8)\n",
      " ('Dave', 180,  7)]\n",
      "\n",
      "Formatted player data:\n",
      "Name: Alice, Score: 250, Level: 10\n",
      "Name: Bob, Score: 400, Level: 12\n",
      "Name: Charlie, Score: 200, Level: 8\n",
      "Name: Dave, Score: 180, Level: 7\n"
     ]
    }
   ],
   "source": [
    "new_player = np.array([('Dave', 180, 7)], dtype=dtype)\n",
    "players = np.append(players, new_player)\n",
    "print(\"Players array:\")\n",
    "print(players)\n",
    "\n",
    "print(\"\\nFormatted player data:\")\n",
    "for player in players:\n",
    "    print(f\"Name: {player['name']}, Score: {player['score']}, Level: {player['level']}\")\n"
   ]
  },
  {
   "cell_type": "code",
   "execution_count": 12,
   "metadata": {},
   "outputs": [
    {
     "name": "stdout",
     "output_type": "stream",
     "text": [
      "Players array:\n",
      "[('Alice', 250, 10) ('Eve', 220,  9) ('Bob', 400, 12) ('Charlie', 200,  8)\n",
      " ('Dave', 180,  7)]\n",
      "\n",
      "Formatted player data:\n",
      "Name: Alice, Score: 250, Level: 10\n",
      "Name: Eve, Score: 220, Level: 9\n",
      "Name: Bob, Score: 400, Level: 12\n",
      "Name: Charlie, Score: 200, Level: 8\n",
      "Name: Dave, Score: 180, Level: 7\n"
     ]
    }
   ],
   "source": [
    "\n",
    "insert_player = np.array([('Eve', 220, 9)], dtype=dtype)\n",
    "players = np.insert(players, 1, insert_player)\n",
    "print(\"Players array:\")\n",
    "print(players)\n",
    "\n",
    "print(\"\\nFormatted player data:\")\n",
    "for player in players:\n",
    "    print(f\"Name: {player['name']}, Score: {player['score']}, Level: {player['level']}\")\n"
   ]
  },
  {
   "cell_type": "code",
   "execution_count": 13,
   "metadata": {},
   "outputs": [
    {
     "name": "stdout",
     "output_type": "stream",
     "text": [
      "Players array:\n",
      "[('Alice', 250, 10) ('Eve', 220,  9) ('Bob', 400, 12) ('Charlie', 200,  8)]\n",
      "\n",
      "Formatted player data:\n",
      "Name: Alice, Score: 250, Level: 10\n",
      "Name: Eve, Score: 220, Level: 9\n",
      "Name: Bob, Score: 400, Level: 12\n",
      "Name: Charlie, Score: 200, Level: 8\n"
     ]
    }
   ],
   "source": [
    "lowest_score_player = np.argmin(players['score'])\n",
    "players = np.delete(players, lowest_score_player)\n",
    "print(\"Players array:\")\n",
    "print(players)\n",
    "\n",
    "print(\"\\nFormatted player data:\")\n",
    "for player in players:\n",
    "    print(f\"Name: {player['name']}, Score: {player['score']}, Level: {player['level']}\")\n",
    "\n"
   ]
  },
  {
   "cell_type": "code",
   "execution_count": 20,
   "metadata": {},
   "outputs": [
    {
     "name": "stdout",
     "output_type": "stream",
     "text": [
      "Daily Visitors: [120  80  95 150  60]\n",
      "Pages Viewed: [130  90 110 170  75]\n"
     ]
    }
   ],
   "source": [
    "import numpy as np\n",
    "daily_visitors = np.array([120, 80, 95, 150, 60])\n",
    "pages_viewed = np.array([130, 90, 110, 170, 75])\n",
    "print(\"Daily Visitors:\", daily_visitors)\n",
    "print(\"Pages Viewed:\", pages_viewed)"
   ]
  },
  {
   "cell_type": "code",
   "execution_count": 24,
   "metadata": {},
   "outputs": [
    {
     "name": "stdout",
     "output_type": "stream",
     "text": [
      "Daily Visitors: [200  80  95 150  60]\n",
      "Shallow Copy: [200  80  95 150  60]\n"
     ]
    }
   ],
   "source": [
    "\n",
    "visitors_shallow_copy = daily_visitors.view()\n",
    "visitors_shallow_copy[0] = 200\n",
    "print(\"Daily Visitors:\", daily_visitors)\n",
    "print(\"Shallow Copy:\", visitors_shallow_copy)\n"
   ]
  },
  {
   "cell_type": "code",
   "execution_count": 34,
   "metadata": {},
   "outputs": [
    {
     "name": "stdout",
     "output_type": "stream",
     "text": [
      "Daily Visitors: [200  80  95 150  60]\n",
      "Deep Copy: [300  90 110 170  75]\n"
     ]
    }
   ],
   "source": [
    "pages_deep_copy = pages_viewed.copy()\n",
    "pages_deep_copy[0] = 300\n",
    "print(\"Daily Visitors:\", daily_visitors)\n",
    "print(\"Deep Copy:\",pages_deep_copy )"
   ]
  },
  {
   "cell_type": "code",
   "execution_count": 35,
   "metadata": {},
   "outputs": [
    {
     "name": "stdout",
     "output_type": "stream",
     "text": [
      "Combined array: [200  80  95 150  60 130  90 110 170  75]\n"
     ]
    }
   ],
   "source": [
    "combined_array = np.concatenate((daily_visitors, pages_viewed))\n",
    "print(\"Combined array:\",combined_array )\n"
   ]
  },
  {
   "cell_type": "code",
   "execution_count": 36,
   "metadata": {},
   "outputs": [
    {
     "name": "stdout",
     "output_type": "stream",
     "text": [
      "above_threshold: [200 150 130 110 170]\n",
      "abelow_threshold: [80 95 60 90 75]\n"
     ]
    }
   ],
   "source": [
    "above_threshold = combined_array[combined_array > 100]\n",
    "below_threshold = combined_array[combined_array <= 100]\n",
    "print(\"above_threshold:\",above_threshold )\n",
    "print(\"abelow_threshold:\",below_threshold)"
   ]
  },
  {
   "cell_type": "code",
   "execution_count": 37,
   "metadata": {},
   "outputs": [
    {
     "name": "stdout",
     "output_type": "stream",
     "text": [
      "Shallow Copy of Visitors (after modification): [150  80  95 150  60]\n",
      "Deep Copy of Pages Viewed (after modification): [300  90 110 170  75]\n"
     ]
    }
   ],
   "source": [
    "daily_visitors[0] = 150\n",
    "pages_viewed[1] = 90\n",
    "print(\"Shallow Copy of Visitors (after modification):\", visitors_shallow_copy)\n",
    "print(\"Deep Copy of Pages Viewed (after modification):\", pages_deep_copy)"
   ]
  }
 ],
 "metadata": {
  "kernelspec": {
   "display_name": "Python 3",
   "language": "python",
   "name": "python3"
  },
  "language_info": {
   "codemirror_mode": {
    "name": "ipython",
    "version": 3
   },
   "file_extension": ".py",
   "mimetype": "text/x-python",
   "name": "python",
   "nbconvert_exporter": "python",
   "pygments_lexer": "ipython3",
   "version": "3.11.4"
  }
 },
 "nbformat": 4,
 "nbformat_minor": 2
}
